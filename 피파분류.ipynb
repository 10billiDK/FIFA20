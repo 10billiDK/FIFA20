{
 "cells": [
  {
   "cell_type": "code",
   "execution_count": 1,
   "metadata": {},
   "outputs": [
    {
     "name": "stdout",
     "output_type": "stream",
     "text": [
      "0.23.2\n"
     ]
    }
   ],
   "source": [
    "import pandas as pd\n",
    "import numpy as np\n",
    "import warnings\n",
    "warnings.filterwarnings('ignore')\n",
    "\n",
    "import sklearn\n",
    "print(sklearn.__version__)\n",
    "from sklearn import preprocessing\n",
    "\n",
    "import xgboost as xgb\n",
    "from xgboost import plot_importance\n",
    "import lightgbm\n",
    "from lightgbm import LGBMClassifier\n",
    "\n",
    "from sklearn.ensemble import VotingClassifier\n",
    "from sklearn.neighbors import KNeighborsClassifier\n",
    "from sklearn.ensemble import RandomForestClassifier\n",
    "from sklearn.ensemble import AdaBoostClassifier\n",
    "from sklearn.tree import DecisionTreeClassifier\n",
    "from sklearn.linear_model import LogisticRegression\n",
    "from sklearn.ensemble import GradientBoostingClassifier\n",
    "from sklearn.model_selection import train_test_split\n",
    "from sklearn.metrics import accuracy_score\n"
   ]
  },
  {
   "cell_type": "code",
   "execution_count": 3,
   "metadata": {},
   "outputs": [
    {
     "data": {
      "text/html": [
       "<div>\n",
       "<style scoped>\n",
       "    .dataframe tbody tr th:only-of-type {\n",
       "        vertical-align: middle;\n",
       "    }\n",
       "\n",
       "    .dataframe tbody tr th {\n",
       "        vertical-align: top;\n",
       "    }\n",
       "\n",
       "    .dataframe thead th {\n",
       "        text-align: right;\n",
       "    }\n",
       "</style>\n",
       "<table border=\"1\" class=\"dataframe\">\n",
       "  <thead>\n",
       "    <tr style=\"text-align: right;\">\n",
       "      <th></th>\n",
       "      <th>sofifa_id</th>\n",
       "      <th>player_url</th>\n",
       "      <th>short_name</th>\n",
       "      <th>long_name</th>\n",
       "      <th>age</th>\n",
       "      <th>dob</th>\n",
       "      <th>height_cm</th>\n",
       "      <th>weight_kg</th>\n",
       "      <th>nationality</th>\n",
       "      <th>club</th>\n",
       "      <th>...</th>\n",
       "      <th>lwb</th>\n",
       "      <th>ldm</th>\n",
       "      <th>cdm</th>\n",
       "      <th>rdm</th>\n",
       "      <th>rwb</th>\n",
       "      <th>lb</th>\n",
       "      <th>lcb</th>\n",
       "      <th>cb</th>\n",
       "      <th>rcb</th>\n",
       "      <th>rb</th>\n",
       "    </tr>\n",
       "  </thead>\n",
       "  <tbody>\n",
       "    <tr>\n",
       "      <th>0</th>\n",
       "      <td>158023</td>\n",
       "      <td>https://sofifa.com/player/158023/lionel-messi/...</td>\n",
       "      <td>L. Messi</td>\n",
       "      <td>Lionel Andrés Messi Cuccittini</td>\n",
       "      <td>32</td>\n",
       "      <td>1987-06-24</td>\n",
       "      <td>170</td>\n",
       "      <td>72</td>\n",
       "      <td>Argentina</td>\n",
       "      <td>FC Barcelona</td>\n",
       "      <td>...</td>\n",
       "      <td>68+2</td>\n",
       "      <td>66+2</td>\n",
       "      <td>66+2</td>\n",
       "      <td>66+2</td>\n",
       "      <td>68+2</td>\n",
       "      <td>63+2</td>\n",
       "      <td>52+2</td>\n",
       "      <td>52+2</td>\n",
       "      <td>52+2</td>\n",
       "      <td>63+2</td>\n",
       "    </tr>\n",
       "    <tr>\n",
       "      <th>1</th>\n",
       "      <td>20801</td>\n",
       "      <td>https://sofifa.com/player/20801/c-ronaldo-dos-...</td>\n",
       "      <td>Cristiano Ronaldo</td>\n",
       "      <td>Cristiano Ronaldo dos Santos Aveiro</td>\n",
       "      <td>34</td>\n",
       "      <td>1985-02-05</td>\n",
       "      <td>187</td>\n",
       "      <td>83</td>\n",
       "      <td>Portugal</td>\n",
       "      <td>Juventus</td>\n",
       "      <td>...</td>\n",
       "      <td>65+3</td>\n",
       "      <td>61+3</td>\n",
       "      <td>61+3</td>\n",
       "      <td>61+3</td>\n",
       "      <td>65+3</td>\n",
       "      <td>61+3</td>\n",
       "      <td>53+3</td>\n",
       "      <td>53+3</td>\n",
       "      <td>53+3</td>\n",
       "      <td>61+3</td>\n",
       "    </tr>\n",
       "    <tr>\n",
       "      <th>2</th>\n",
       "      <td>190871</td>\n",
       "      <td>https://sofifa.com/player/190871/neymar-da-sil...</td>\n",
       "      <td>Neymar Jr</td>\n",
       "      <td>Neymar da Silva Santos Junior</td>\n",
       "      <td>27</td>\n",
       "      <td>1992-02-05</td>\n",
       "      <td>175</td>\n",
       "      <td>68</td>\n",
       "      <td>Brazil</td>\n",
       "      <td>Paris Saint-Germain</td>\n",
       "      <td>...</td>\n",
       "      <td>66+3</td>\n",
       "      <td>61+3</td>\n",
       "      <td>61+3</td>\n",
       "      <td>61+3</td>\n",
       "      <td>66+3</td>\n",
       "      <td>61+3</td>\n",
       "      <td>46+3</td>\n",
       "      <td>46+3</td>\n",
       "      <td>46+3</td>\n",
       "      <td>61+3</td>\n",
       "    </tr>\n",
       "  </tbody>\n",
       "</table>\n",
       "<p>3 rows × 104 columns</p>\n",
       "</div>"
      ],
      "text/plain": [
       "   sofifa_id                                         player_url  \\\n",
       "0     158023  https://sofifa.com/player/158023/lionel-messi/...   \n",
       "1      20801  https://sofifa.com/player/20801/c-ronaldo-dos-...   \n",
       "2     190871  https://sofifa.com/player/190871/neymar-da-sil...   \n",
       "\n",
       "          short_name                            long_name  age         dob  \\\n",
       "0           L. Messi       Lionel Andrés Messi Cuccittini   32  1987-06-24   \n",
       "1  Cristiano Ronaldo  Cristiano Ronaldo dos Santos Aveiro   34  1985-02-05   \n",
       "2          Neymar Jr        Neymar da Silva Santos Junior   27  1992-02-05   \n",
       "\n",
       "   height_cm  weight_kg nationality                 club  ...   lwb   ldm  \\\n",
       "0        170         72   Argentina         FC Barcelona  ...  68+2  66+2   \n",
       "1        187         83    Portugal             Juventus  ...  65+3  61+3   \n",
       "2        175         68      Brazil  Paris Saint-Germain  ...  66+3  61+3   \n",
       "\n",
       "    cdm   rdm   rwb    lb   lcb    cb   rcb    rb  \n",
       "0  66+2  66+2  68+2  63+2  52+2  52+2  52+2  63+2  \n",
       "1  61+3  61+3  65+3  61+3  53+3  53+3  53+3  61+3  \n",
       "2  61+3  61+3  66+3  61+3  46+3  46+3  46+3  61+3  \n",
       "\n",
       "[3 rows x 104 columns]"
      ]
     },
     "execution_count": 3,
     "metadata": {},
     "output_type": "execute_result"
    }
   ],
   "source": [
    "data_df = pd.read_csv(\"/Users/kimdongkyu/Desktop/인공지능 프로젝트/피파 프로젝트/players_20분류.csv\",header=0)\n",
    "data_df.head(3)"
   ]
  },
  {
   "cell_type": "code",
   "execution_count": 4,
   "metadata": {},
   "outputs": [],
   "source": [
    "def format_features(df):\n",
    "    features = ['team_position']\n",
    "    for feature in features:\n",
    "        le=preprocessing.LabelEncoder()\n",
    "        le=le.fit(df[feature])\n",
    "        df[feature] = le.transform(df[feature])\n",
    "    return df"
   ]
  },
  {
   "cell_type": "code",
   "execution_count": 5,
   "metadata": {},
   "outputs": [],
   "source": [
    "data_df = data_df.dropna(subset=['pace'])\n",
    "data_df = data_df.dropna(subset=['team_position'])\n",
    "positionsub = data_df[data_df['team_position']=='SUB'].index\n",
    "data_df = data_df.drop(positionsub,inplace=False)"
   ]
  },
  {
   "cell_type": "code",
   "execution_count": 6,
   "metadata": {},
   "outputs": [
    {
     "name": "stdout",
     "output_type": "stream",
     "text": [
      "      team_position\n",
      "0                FW\n",
      "1                FW\n",
      "2                AM\n",
      "4                FW\n",
      "5                CM\n",
      "...             ...\n",
      "18149            CM\n",
      "18153            WB\n",
      "18155            CB\n",
      "18182            WB\n",
      "18232            WM\n",
      "\n",
      "[6598 rows x 1 columns]\n"
     ]
    }
   ],
   "source": [
    "x_data = data_df[['preferred_foot','weak_foot','skill_moves','height_cm','weight_kg',\"attacking_crossing\",'attacking_finishing','attacking_heading_accuracy','attacking_short_passing','attacking_volleys','skill_dribbling','skill_curve','skill_fk_accuracy','skill_long_passing','skill_ball_control','movement_acceleration','movement_sprint_speed','movement_agility','movement_reactions','movement_balance','power_shot_power','power_jumping','power_stamina','power_strength','power_long_shots','mentality_aggression','mentality_interceptions','mentality_vision','mentality_penalties','mentality_composure','defending_marking','defending_standing_tackle','defending_sliding_tackle']]\n",
    "y_data = data_df[['team_position']]\n",
    "print(y_data)\n",
    "y_data = format_features(y_data)\n",
    "\n",
    "feature = ['preferred_foot']\n",
    "le=preprocessing.LabelEncoder()\n",
    "le=le.fit(x_data[feature])\n",
    "x_data[feature] = le.transform(x_data[feature])"
   ]
  },
  {
   "cell_type": "code",
   "execution_count": 7,
   "metadata": {},
   "outputs": [],
   "source": [
    "# **VotingClassifier로 개별모델은 로지스틱 회귀와 KNN을 보팅방식으로 결합하고 성능 비교**"
   ]
  },
  {
   "cell_type": "code",
   "execution_count": 9,
   "metadata": {},
   "outputs": [
    {
     "name": "stdout",
     "output_type": "stream",
     "text": [
      "Voting 분류기 정확도: 0.6818\n",
      "LogisticRegression 정확도: 0.6894\n",
      "KNeighborsClassifier 정확도: 0.6402\n"
     ]
    }
   ],
   "source": [
    "# 개별 모델은 로지스틱 회귀와 KNN 임. \n",
    "lr_clf = LogisticRegression()\n",
    "knn_clf = KNeighborsClassifier(n_neighbors=8)\n",
    "\n",
    "# 개별 모델을 소프트 보팅 기반의 앙상블 모델로 구현한 분류기 \n",
    "vo_clf = VotingClassifier( estimators=[('LR',lr_clf),('KNN',knn_clf)] , voting='soft' )\n",
    "\n",
    "X_train, X_test, y_train, y_test = train_test_split(x_data, y_data, \n",
    "                                                    test_size=0.2 , random_state= 156)\n",
    "\n",
    "# VotingClassifier 학습/예측/평가. \n",
    "vo_clf.fit(X_train , y_train)\n",
    "pred = vo_clf.predict(X_test)\n",
    "print('Voting 분류기 정확도: {0:.4f}'.format(accuracy_score(y_test , pred)))\n",
    "\n",
    "\n",
    "# 개별 모델의 학습/예측/평가.\n",
    "classifiers = [lr_clf, knn_clf]\n",
    "for classifier in classifiers:\n",
    "    classifier.fit(X_train , y_train)\n",
    "    pred = classifier.predict(X_test)\n",
    "    class_name= classifier.__class__.__name__\n",
    "    print('{0} 정확도: {1:.4f}'.format(class_name, accuracy_score(y_test , pred)))\n"
   ]
  },
  {
   "cell_type": "code",
   "execution_count": 10,
   "metadata": {},
   "outputs": [],
   "source": [
    "# **학습/테스트 데이터로 분리하고 랜덤 포레스트로 학습/예측/평가**"
   ]
  },
  {
   "cell_type": "code",
   "execution_count": 11,
   "metadata": {},
   "outputs": [
    {
     "name": "stdout",
     "output_type": "stream",
     "text": [
      "랜덤 포레스트 정확도: 0.6682\n"
     ]
    }
   ],
   "source": [
    "# 랜덤 포레스트 학습 및 별도의 테스트 셋으로 예측 성능 평가\n",
    "rf_clf = RandomForestClassifier(random_state=0)\n",
    "rf_clf.fit(X_train , y_train)\n",
    "pred = rf_clf.predict(X_test)\n",
    "accuracy = accuracy_score(y_test , pred)\n",
    "print('랜덤 포레스트 정확도: {0:.4f}'.format(accuracy))"
   ]
  },
  {
   "cell_type": "code",
   "execution_count": 12,
   "metadata": {},
   "outputs": [],
   "source": [
    "# **GridSearchCV 로 교차검증 및 하이퍼 파라미터 튜닝**"
   ]
  },
  {
   "cell_type": "code",
   "execution_count": 13,
   "metadata": {},
   "outputs": [
    {
     "name": "stdout",
     "output_type": "stream",
     "text": [
      "최적 하이퍼 파라미터:\n",
      " {'max_depth': 12, 'min_samples_leaf': 8, 'min_samples_split': 8, 'n_estimators': 300}\n",
      "최고 예측 정확도: 0.6652\n"
     ]
    }
   ],
   "source": [
    "from sklearn.model_selection import GridSearchCV\n",
    "\n",
    "params = {\n",
    "    'n_estimators':[300],\n",
    "    'max_depth' : [6, 8, 10, 12], \n",
    "    'min_samples_leaf' : [8, 12, 18 ],\n",
    "    'min_samples_split' : [8, 16, 20]\n",
    "}\n",
    "# RandomForestClassifier 객체 생성 후 GridSearchCV 수행\n",
    "rf_clf = RandomForestClassifier(random_state=0, n_jobs=-1)\n",
    "grid_cv = GridSearchCV(rf_clf , param_grid=params , cv=5, n_jobs=-1 )\n",
    "grid_cv.fit(X_train , y_train)\n",
    "\n",
    "print('최적 하이퍼 파라미터:\\n', grid_cv.best_params_)\n",
    "print('최고 예측 정확도: {0:.4f}'.format(grid_cv.best_score_))\n"
   ]
  },
  {
   "cell_type": "code",
   "execution_count": 14,
   "metadata": {},
   "outputs": [],
   "source": [
    "# **튜닝된 하이퍼 파라미터로 재 학습 및 예측/평가**"
   ]
  },
  {
   "cell_type": "code",
   "execution_count": 15,
   "metadata": {},
   "outputs": [
    {
     "name": "stdout",
     "output_type": "stream",
     "text": [
      "예측 정확도: 0.6614\n"
     ]
    }
   ],
   "source": [
    "rf_clf1 = RandomForestClassifier(n_estimators=300, max_depth=10, min_samples_leaf=8,                                  min_samples_split=8, random_state=0)\n",
    "rf_clf1.fit(X_train , y_train)\n",
    "pred = rf_clf1.predict(X_test)\n",
    "print('예측 정확도: {0:.4f}'.format(accuracy_score(y_test , pred)))"
   ]
  },
  {
   "cell_type": "code",
   "execution_count": 16,
   "metadata": {},
   "outputs": [],
   "source": [
    "# **개별 feature들의 중요도 시각화**"
   ]
  },
  {
   "cell_type": "code",
   "execution_count": 17,
   "metadata": {},
   "outputs": [
    {
     "data": {
      "image/png": "[encoded data removed]",
      "text/plain": [
       "<Figure size 576x432 with 1 Axes>"
      ]
     },
     "metadata": {
      "needs_background": "light"
     },
     "output_type": "display_data"
    }
   ],
   "source": [
    "import matplotlib.pyplot as plt\n",
    "import seaborn as sns\n",
    "get_ipython().run_line_magic('matplotlib', 'inline')\n",
    "\n",
    "ftr_importances_values = rf_clf1.feature_importances_\n",
    "ftr_importances = pd.Series(ftr_importances_values,index=X_train.columns  )\n",
    "ftr_top20 = ftr_importances.sort_values(ascending=False)[:20]\n",
    "\n",
    "plt.figure(figsize=(8,6))\n",
    "plt.title('Feature importances Top 20')\n",
    "sns.barplot(x=ftr_top20 , y = ftr_top20.index)\n",
    "plt.show()\n"
   ]
  },
  {
   "cell_type": "code",
   "execution_count": 18,
   "metadata": {},
   "outputs": [
    {
     "name": "stdout",
     "output_type": "stream",
     "text": [
      "[1]\tvalid_0's multi_logloss: 1.85611\n",
      "Training until validation scores don't improve for 100 rounds\n",
      "[2]\tvalid_0's multi_logloss: 1.74653\n",
      "[3]\tvalid_0's multi_logloss: 1.65687\n",
      "[4]\tvalid_0's multi_logloss: 1.58123\n",
      "[5]\tvalid_0's multi_logloss: 1.51343\n",
      "[6]\tvalid_0's multi_logloss: 1.45325\n",
      "[7]\tvalid_0's multi_logloss: 1.40118\n",
      "[8]\tvalid_0's multi_logloss: 1.35631\n",
      "[9]\tvalid_0's multi_logloss: 1.31626\n",
      "[10]\tvalid_0's multi_logloss: 1.27893\n",
      "[11]\tvalid_0's multi_logloss: 1.24499\n",
      "[12]\tvalid_0's multi_logloss: 1.21404\n",
      "[13]\tvalid_0's multi_logloss: 1.18824\n",
      "[14]\tvalid_0's multi_logloss: 1.1656\n",
      "[15]\tvalid_0's multi_logloss: 1.14408\n",
      "[16]\tvalid_0's multi_logloss: 1.12498\n",
      "[17]\tvalid_0's multi_logloss: 1.10662\n",
      "[18]\tvalid_0's multi_logloss: 1.08992\n",
      "[19]\tvalid_0's multi_logloss: 1.07504\n",
      "[20]\tvalid_0's multi_logloss: 1.06045\n",
      "[21]\tvalid_0's multi_logloss: 1.04831\n",
      "[22]\tvalid_0's multi_logloss: 1.03745\n",
      "[23]\tvalid_0's multi_logloss: 1.02572\n",
      "[24]\tvalid_0's multi_logloss: 1.0152\n",
      "[25]\tvalid_0's multi_logloss: 1.0056\n",
      "[26]\tvalid_0's multi_logloss: 0.997524\n",
      "[27]\tvalid_0's multi_logloss: 0.989717\n",
      "[28]\tvalid_0's multi_logloss: 0.982486\n",
      "[29]\tvalid_0's multi_logloss: 0.976446\n",
      "[30]\tvalid_0's multi_logloss: 0.970733\n",
      "[31]\tvalid_0's multi_logloss: 0.965237\n",
      "[32]\tvalid_0's multi_logloss: 0.9609\n",
      "[33]\tvalid_0's multi_logloss: 0.956849\n",
      "[34]\tvalid_0's multi_logloss: 0.952442\n",
      "[35]\tvalid_0's multi_logloss: 0.94778\n",
      "[36]\tvalid_0's multi_logloss: 0.942931\n",
      "[37]\tvalid_0's multi_logloss: 0.938656\n",
      "[38]\tvalid_0's multi_logloss: 0.935491\n",
      "[39]\tvalid_0's multi_logloss: 0.933437\n",
      "[40]\tvalid_0's multi_logloss: 0.929912\n",
      "[41]\tvalid_0's multi_logloss: 0.927635\n",
      "[42]\tvalid_0's multi_logloss: 0.924874\n",
      "[43]\tvalid_0's multi_logloss: 0.922703\n",
      "[44]\tvalid_0's multi_logloss: 0.921249\n",
      "[45]\tvalid_0's multi_logloss: 0.91828\n",
      "[46]\tvalid_0's multi_logloss: 0.916794\n",
      "[47]\tvalid_0's multi_logloss: 0.915552\n",
      "[48]\tvalid_0's multi_logloss: 0.914163\n",
      "[49]\tvalid_0's multi_logloss: 0.912289\n",
      "[50]\tvalid_0's multi_logloss: 0.911576\n",
      "[51]\tvalid_0's multi_logloss: 0.909969\n",
      "[52]\tvalid_0's multi_logloss: 0.909465\n",
      "[53]\tvalid_0's multi_logloss: 0.907979\n",
      "[54]\tvalid_0's multi_logloss: 0.907234\n",
      "[55]\tvalid_0's multi_logloss: 0.906563\n",
      "[56]\tvalid_0's multi_logloss: 0.906824\n",
      "[57]\tvalid_0's multi_logloss: 0.906419\n",
      "[58]\tvalid_0's multi_logloss: 0.905914\n",
      "[59]\tvalid_0's multi_logloss: 0.905867\n",
      "[60]\tvalid_0's multi_logloss: 0.905536\n",
      "[61]\tvalid_0's multi_logloss: 0.904081\n",
      "[62]\tvalid_0's multi_logloss: 0.90362\n",
      "[63]\tvalid_0's multi_logloss: 0.903864\n",
      "[64]\tvalid_0's multi_logloss: 0.903795\n",
      "[65]\tvalid_0's multi_logloss: 0.903336\n",
      "[66]\tvalid_0's multi_logloss: 0.90343\n",
      "[67]\tvalid_0's multi_logloss: 0.903872\n",
      "[68]\tvalid_0's multi_logloss: 0.904296\n",
      "[69]\tvalid_0's multi_logloss: 0.905315\n",
      "[70]\tvalid_0's multi_logloss: 0.905686\n",
      "[71]\tvalid_0's multi_logloss: 0.90519\n",
      "[72]\tvalid_0's multi_logloss: 0.905861\n",
      "[73]\tvalid_0's multi_logloss: 0.906191\n",
      "[74]\tvalid_0's multi_logloss: 0.906695\n",
      "[75]\tvalid_0's multi_logloss: 0.907447\n",
      "[76]\tvalid_0's multi_logloss: 0.907709\n",
      "[77]\tvalid_0's multi_logloss: 0.908487\n",
      "[78]\tvalid_0's multi_logloss: 0.908291\n",
      "[79]\tvalid_0's multi_logloss: 0.908709\n",
      "[80]\tvalid_0's multi_logloss: 0.910001\n",
      "[81]\tvalid_0's multi_logloss: 0.91104\n",
      "[82]\tvalid_0's multi_logloss: 0.911361\n",
      "[83]\tvalid_0's multi_logloss: 0.911518\n",
      "[84]\tvalid_0's multi_logloss: 0.9122\n",
      "[85]\tvalid_0's multi_logloss: 0.912147\n",
      "[86]\tvalid_0's multi_logloss: 0.912881\n",
      "[87]\tvalid_0's multi_logloss: 0.913096\n",
      "[88]\tvalid_0's multi_logloss: 0.913789\n",
      "[89]\tvalid_0's multi_logloss: 0.915186\n",
      "[90]\tvalid_0's multi_logloss: 0.915929\n",
      "[91]\tvalid_0's multi_logloss: 0.917182\n",
      "[92]\tvalid_0's multi_logloss: 0.918433\n",
      "[93]\tvalid_0's multi_logloss: 0.919498\n",
      "[94]\tvalid_0's multi_logloss: 0.920066\n",
      "[95]\tvalid_0's multi_logloss: 0.920871\n",
      "[96]\tvalid_0's multi_logloss: 0.92136\n",
      "[97]\tvalid_0's multi_logloss: 0.921417\n",
      "[98]\tvalid_0's multi_logloss: 0.922102\n",
      "[99]\tvalid_0's multi_logloss: 0.92296\n",
      "[100]\tvalid_0's multi_logloss: 0.923501\n",
      "[101]\tvalid_0's multi_logloss: 0.924138\n",
      "[102]\tvalid_0's multi_logloss: 0.925524\n",
      "[103]\tvalid_0's multi_logloss: 0.926525\n",
      "[104]\tvalid_0's multi_logloss: 0.926955\n",
      "[105]\tvalid_0's multi_logloss: 0.9282\n",
      "[106]\tvalid_0's multi_logloss: 0.929178\n",
      "[107]\tvalid_0's multi_logloss: 0.929461\n",
      "[108]\tvalid_0's multi_logloss: 0.930278\n",
      "[109]\tvalid_0's multi_logloss: 0.931248\n",
      "[110]\tvalid_0's multi_logloss: 0.932239\n",
      "[111]\tvalid_0's multi_logloss: 0.933373\n",
      "[112]\tvalid_0's multi_logloss: 0.933283\n",
      "[113]\tvalid_0's multi_logloss: 0.934614\n",
      "[114]\tvalid_0's multi_logloss: 0.935603\n",
      "[115]\tvalid_0's multi_logloss: 0.936034\n",
      "[116]\tvalid_0's multi_logloss: 0.936252\n",
      "[117]\tvalid_0's multi_logloss: 0.937422\n",
      "[118]\tvalid_0's multi_logloss: 0.938764\n",
      "[119]\tvalid_0's multi_logloss: 0.940151\n",
      "[120]\tvalid_0's multi_logloss: 0.940308\n",
      "[121]\tvalid_0's multi_logloss: 0.941295\n",
      "[122]\tvalid_0's multi_logloss: 0.942545\n",
      "[123]\tvalid_0's multi_logloss: 0.943656\n",
      "[124]\tvalid_0's multi_logloss: 0.94489\n",
      "[125]\tvalid_0's multi_logloss: 0.946048\n",
      "[126]\tvalid_0's multi_logloss: 0.946841\n",
      "[127]\tvalid_0's multi_logloss: 0.947855\n",
      "[128]\tvalid_0's multi_logloss: 0.94874\n",
      "[129]\tvalid_0's multi_logloss: 0.949678\n",
      "[130]\tvalid_0's multi_logloss: 0.95073\n",
      "[131]\tvalid_0's multi_logloss: 0.952592\n",
      "[132]\tvalid_0's multi_logloss: 0.953763\n",
      "[133]\tvalid_0's multi_logloss: 0.954478\n",
      "[134]\tvalid_0's multi_logloss: 0.954466\n",
      "[135]\tvalid_0's multi_logloss: 0.955252\n",
      "[136]\tvalid_0's multi_logloss: 0.957044\n",
      "[137]\tvalid_0's multi_logloss: 0.957419\n",
      "[138]\tvalid_0's multi_logloss: 0.958045\n",
      "[139]\tvalid_0's multi_logloss: 0.959468\n",
      "[140]\tvalid_0's multi_logloss: 0.959977\n",
      "[141]\tvalid_0's multi_logloss: 0.96136\n",
      "[142]\tvalid_0's multi_logloss: 0.962104\n",
      "[143]\tvalid_0's multi_logloss: 0.963921\n",
      "[144]\tvalid_0's multi_logloss: 0.96514\n",
      "[145]\tvalid_0's multi_logloss: 0.966931\n",
      "[146]\tvalid_0's multi_logloss: 0.968512\n",
      "[147]\tvalid_0's multi_logloss: 0.969341\n",
      "[148]\tvalid_0's multi_logloss: 0.970025\n",
      "[149]\tvalid_0's multi_logloss: 0.970735\n",
      "[150]\tvalid_0's multi_logloss: 0.972396\n",
      "[151]\tvalid_0's multi_logloss: 0.973943\n",
      "[152]\tvalid_0's multi_logloss: 0.975368\n",
      "[153]\tvalid_0's multi_logloss: 0.976405\n",
      "[154]\tvalid_0's multi_logloss: 0.977509\n",
      "[155]\tvalid_0's multi_logloss: 0.979122\n",
      "[156]\tvalid_0's multi_logloss: 0.980333\n",
      "[157]\tvalid_0's multi_logloss: 0.981313\n",
      "[158]\tvalid_0's multi_logloss: 0.982526\n",
      "[159]\tvalid_0's multi_logloss: 0.983375\n",
      "[160]\tvalid_0's multi_logloss: 0.98452\n",
      "[161]\tvalid_0's multi_logloss: 0.985635\n",
      "[162]\tvalid_0's multi_logloss: 0.986331\n",
      "[163]\tvalid_0's multi_logloss: 0.987271\n",
      "[164]\tvalid_0's multi_logloss: 0.988068\n",
      "[165]\tvalid_0's multi_logloss: 0.988412\n",
      "Early stopping, best iteration is:\n",
      "[65]\tvalid_0's multi_logloss: 0.903336\n",
      "LightGBM 정확도: 0.6720\n"
     ]
    }
   ],
   "source": [
    "lgbm_wrapper = LGBMClassifier(n_estimators=400)\n",
    "\n",
    "# LightGBM도 XGBoost와 동일하게 조기 중단 수행 가능. \n",
    "evals = [(X_test, y_test)]\n",
    "lgbm_wrapper.fit(X_train, y_train, early_stopping_rounds=100, eval_metric=\"logloss\", \n",
    "                 eval_set=evals, verbose=True)\n",
    "lgbm_preds = lgbm_wrapper.predict(X_test)\n",
    "lgbm_accuracy = accuracy_score(y_test, lgbm_preds)\n",
    "print('LightGBM 정확도: {0:.4f}'.format(lgbm_accuracy))\n"
   ]
  },
  {
   "cell_type": "code",
   "execution_count": 19,
   "metadata": {},
   "outputs": [],
   "source": [
    "from sklearn.metrics import confusion_matrix, accuracy_score\n",
    "from sklearn.metrics import precision_score, recall_score\n",
    "from sklearn.metrics import f1_score, roc_auc_score\n",
    "\n",
    "def get_clf_eval(y_test , pred):\n",
    "    confusion = confusion_matrix( y_test, pred)\n",
    "    accuracy = accuracy_score(y_test , pred)\n",
    "    precision = precision_score(y_test , pred,average='weighted')\n",
    "    recall = recall_score(y_test , pred,average='weighted')\n",
    "    f1 = f1_score(y_test,pred,average='weighted')\n",
    "    ##roc_auc = roc_auc_score(y_test, pred,average='micro',multi_class='ovo')\n",
    "    print('오차 행렬')\n",
    "    print(confusion)\n",
    "    print('정확도: {0:.4f}, 정밀도: {1:.4f}, 재현율: {2:.4f},F1: {3:.4f}'.format(accuracy, precision, recall, f1))\n"
   ]
  },
  {
   "cell_type": "code",
   "execution_count": 20,
   "metadata": {},
   "outputs": [
    {
     "name": "stdout",
     "output_type": "stream",
     "text": [
      "오차 행렬\n",
      "[[ 14   1  22   1   5   5   3  33]\n",
      " [  0 254   1   8   0   0  14   0]\n",
      " [  6  11 106  49   0   5   7  14]\n",
      " [  2  10  52  63   0   0  14   0]\n",
      " [  2   0   8   0  10  14   0  32]\n",
      " [  3   0   2   0   4 127   0  15]\n",
      " [  0  10   5   0   1   0 222   9]\n",
      " [ 13   0  15   0   6  11  20  91]]\n",
      "정확도: 0.6720, 정밀도: 0.6523, 재현율: 0.6720,F1: 0.6556\n"
     ]
    }
   ],
   "source": [
    "get_clf_eval(y_test, lgbm_preds)"
   ]
  },
  {
   "cell_type": "code",
   "execution_count": 21,
   "metadata": {},
   "outputs": [
    {
     "data": {
      "text/plain": [
       "<AxesSubplot:title={'center':'Feature importance'}, xlabel='Feature importance', ylabel='Features'>"
      ]
     },
     "execution_count": 21,
     "metadata": {},
     "output_type": "execute_result"
    },
    {
     "data": {
      "image/png": "[encoded data removed]",
      "text/plain": [
       "<Figure size 720x864 with 1 Axes>"
      ]
     },
     "metadata": {
      "needs_background": "light"
     },
     "output_type": "display_data"
    }
   ],
   "source": [
    "# plot_importance( )를 이용하여 feature 중요도 시각화\n",
    "from lightgbm import plot_importance\n",
    "import matplotlib.pyplot as plt\n",
    "get_ipython().run_line_magic('matplotlib', 'inline')\n",
    "\n",
    "fig, ax = plt.subplots(figsize=(10, 12))\n",
    "plot_importance(lgbm_wrapper, ax=ax)"
   ]
  },
  {
   "cell_type": "code",
   "execution_count": 22,
   "metadata": {},
   "outputs": [
    {
     "data": {
      "text/html": [
       "<div>\n",
       "<style scoped>\n",
       "    .dataframe tbody tr th:only-of-type {\n",
       "        vertical-align: middle;\n",
       "    }\n",
       "\n",
       "    .dataframe tbody tr th {\n",
       "        vertical-align: top;\n",
       "    }\n",
       "\n",
       "    .dataframe thead th {\n",
       "        text-align: right;\n",
       "    }\n",
       "</style>\n",
       "<table border=\"1\" class=\"dataframe\">\n",
       "  <thead>\n",
       "    <tr style=\"text-align: right;\">\n",
       "      <th></th>\n",
       "      <th>team_position</th>\n",
       "    </tr>\n",
       "  </thead>\n",
       "  <tbody>\n",
       "    <tr>\n",
       "      <th>1913</th>\n",
       "      <td>1</td>\n",
       "    </tr>\n",
       "    <tr>\n",
       "      <th>14650</th>\n",
       "      <td>6</td>\n",
       "    </tr>\n",
       "    <tr>\n",
       "      <th>12768</th>\n",
       "      <td>2</td>\n",
       "    </tr>\n",
       "    <tr>\n",
       "      <th>4806</th>\n",
       "      <td>2</td>\n",
       "    </tr>\n",
       "    <tr>\n",
       "      <th>4085</th>\n",
       "      <td>2</td>\n",
       "    </tr>\n",
       "    <tr>\n",
       "      <th>...</th>\n",
       "      <td>...</td>\n",
       "    </tr>\n",
       "    <tr>\n",
       "      <th>8439</th>\n",
       "      <td>1</td>\n",
       "    </tr>\n",
       "    <tr>\n",
       "      <th>8814</th>\n",
       "      <td>2</td>\n",
       "    </tr>\n",
       "    <tr>\n",
       "      <th>1555</th>\n",
       "      <td>5</td>\n",
       "    </tr>\n",
       "    <tr>\n",
       "      <th>4095</th>\n",
       "      <td>4</td>\n",
       "    </tr>\n",
       "    <tr>\n",
       "      <th>1969</th>\n",
       "      <td>6</td>\n",
       "    </tr>\n",
       "  </tbody>\n",
       "</table>\n",
       "<p>1320 rows × 1 columns</p>\n",
       "</div>"
      ],
      "text/plain": [
       "       team_position\n",
       "1913               1\n",
       "14650              6\n",
       "12768              2\n",
       "4806               2\n",
       "4085               2\n",
       "...              ...\n",
       "8439               1\n",
       "8814               2\n",
       "1555               5\n",
       "4095               4\n",
       "1969               6\n",
       "\n",
       "[1320 rows x 1 columns]"
      ]
     },
     "execution_count": 22,
     "metadata": {},
     "output_type": "execute_result"
    }
   ],
   "source": [
    "y_test"
   ]
  },
  {
   "cell_type": "code",
   "execution_count": 23,
   "metadata": {},
   "outputs": [],
   "source": [
    "# 개별 ML 모델을 위한 Classifier 생성.\n",
    "knn_clf  = KNeighborsClassifier(n_neighbors=8)\n",
    "rf_clf = RandomForestClassifier(n_estimators=500, random_state=0)\n",
    "gb_clf = GradientBoostingClassifier(n_estimators=500,random_state=0)\n",
    "\n",
    "# 최종 Stacking 모델을 위한 Classifier생성. \n",
    "lr_final = LogisticRegression()"
   ]
  },
  {
   "cell_type": "code",
   "execution_count": 24,
   "metadata": {},
   "outputs": [
    {
     "data": {
      "text/plain": [
       "GradientBoostingClassifier(n_estimators=500, random_state=0)"
      ]
     },
     "execution_count": 24,
     "metadata": {},
     "output_type": "execute_result"
    }
   ],
   "source": [
    "# 개별 모델들을 학습. \n",
    "knn_clf.fit(X_train, y_train)\n",
    "rf_clf.fit(X_train , y_train)\n",
    "gb_clf.fit(X_train, y_train)"
   ]
  },
  {
   "cell_type": "code",
   "execution_count": 25,
   "metadata": {},
   "outputs": [
    {
     "name": "stdout",
     "output_type": "stream",
     "text": [
      "KNN 정확도: 0.6402\n",
      "랜덤 포레스트 정확도: 0.6705\n",
      "gbm 정확도 : 0.6508\n"
     ]
    }
   ],
   "source": [
    "# 학습된 개별 모델들이 각자 반환하는 예측 데이터 셋을 생성하고 개별 모델의 정확도 측정. \n",
    "knn_pred = knn_clf.predict(X_test)\n",
    "rf_pred = rf_clf.predict(X_test)\n",
    "gb_pred = gb_clf.predict(X_test)\n",
    "\n",
    "print('KNN 정확도: {0:.4f}'.format(accuracy_score(y_test, knn_pred)))\n",
    "print('랜덤 포레스트 정확도: {0:.4f}'.format(accuracy_score(y_test, rf_pred)))\n",
    "print('gbm 정확도 : {0:.4f}'.format(accuracy_score(y_test,gb_pred)))"
   ]
  },
  {
   "cell_type": "code",
   "execution_count": 26,
   "metadata": {},
   "outputs": [
    {
     "name": "stdout",
     "output_type": "stream",
     "text": [
      "(3, 1320)\n",
      "(1320, 3)\n"
     ]
    }
   ],
   "source": [
    "pred = np.array([knn_pred, rf_pred,lgbm_preds])\n",
    "print(pred.shape)\n",
    "\n",
    "# transpose를 이용해 행과 열의 위치 교환. 컬럼 레벨로 각 알고리즘의 예측 결과를 피처로 만듦. \n",
    "pred = np.transpose(pred)\n",
    "print(pred.shape)\n"
   ]
  },
  {
   "cell_type": "code",
   "execution_count": 27,
   "metadata": {},
   "outputs": [
    {
     "name": "stdout",
     "output_type": "stream",
     "text": [
      "최종 정확도: 0.7205\n"
     ]
    }
   ],
   "source": [
    "lgbm_wrapper = LGBMClassifier(n_estimators=800)\n",
    "\n",
    "# LightGBM도 XGBoost와 동일하게 조기 중단 수행 가능. \n",
    "lgbm_wrapper.fit(pred, y_test,verbose=True)\n",
    "lgbm_preds = lgbm_wrapper.predict(pred)\n",
    "lgbm_accuracy = accuracy_score(y_test, lgbm_preds)\n",
    "print('최종 정확도: {0:.4f}'.format(lgbm_accuracy))"
   ]
  },
  {
   "cell_type": "code",
   "execution_count": 28,
   "metadata": {},
   "outputs": [
    {
     "name": "stdout",
     "output_type": "stream",
     "text": [
      "오차 행렬\n",
      "[[ 18   1  17   1   5   5   3  34]\n",
      " [  0 260   1   2   0   0  14   0]\n",
      " [  6  12 126  35   0   4   3  12]\n",
      " [  1  11  52  63   0   0  13   1]\n",
      " [  1   0   5   0  17  13   0  30]\n",
      " [  0   0   1   0   2 132   0  16]\n",
      " [  3  10   5   0   0   0 222   7]\n",
      " [  4   0  10   0   5   9  15 113]]\n",
      "정확도: 0.7205, 정밀도: 0.7125, 재현율: 0.7205,F1: 0.7045\n"
     ]
    }
   ],
   "source": [
    "get_clf_eval(y_test, lgbm_preds)"
   ]
  },
  {
   "cell_type": "code",
   "execution_count": 29,
   "metadata": {},
   "outputs": [],
   "source": [
    "X_train_arr = np.array(X_train)\n",
    "y_train_arr = np.array(y_train)\n",
    "X_test_arr = np.array(X_test)"
   ]
  },
  {
   "cell_type": "code",
   "execution_count": 30,
   "metadata": {},
   "outputs": [],
   "source": [
    "from sklearn.model_selection import KFold\n",
    "from sklearn.metrics import mean_absolute_error\n",
    "\n",
    "# 개별 기반 모델에서 최종 메타 모델이 사용할 학습 및 테스트용 데이터를 생성하기 위한 함수. \n",
    "def get_stacking_base_datasets(model, X_train_n, y_train_n, X_test_n, n_folds ):\n",
    "    # 지정된 n_folds값으로 KFold 생성.\n",
    "    kf = KFold(n_splits=n_folds, shuffle=False, random_state=0)\n",
    "    #추후에 메타 모델이 사용할 학습 데이터 반환을 위한 넘파이 배열 초기화 \n",
    "    train_fold_pred = np.zeros((X_train_n.shape[0] ,1 ))\n",
    "    test_pred = np.zeros((X_test_n.shape[0],n_folds))\n",
    "    print(model.__class__.__name__ , ' model 시작 ')\n",
    "    \n",
    "    for folder_counter , (train_index, valid_index) in enumerate(kf.split(X_train_n)):\n",
    "        #입력된 학습 데이터에서 기반 모델이 학습/예측할 폴드 데이터 셋 추출 \n",
    "        print('\\t 폴드 세트: ',folder_counter,' 시작 ')\n",
    "        X_tr = X_train_n[train_index] \n",
    "        y_tr = y_train_n[train_index] \n",
    "        X_te = X_train_n[valid_index]  \n",
    "        \n",
    "        #폴드 세트 내부에서 다시 만들어진 학습 데이터로 기반 모델의 학습 수행.\n",
    "        model.fit(X_tr , y_tr)       \n",
    "        #폴드 세트 내부에서 다시 만들어진 검증 데이터로 기반 모델 예측 후 데이터 저장.\n",
    "        train_fold_pred[valid_index, :] = model.predict(X_te).reshape(-1,1)\n",
    "        #입력된 원본 테스트 데이터를 폴드 세트내 학습된 기반 모델에서 예측 후 데이터 저장. \n",
    "        test_pred[:, folder_counter] = model.predict(X_test_n)\n",
    "            \n",
    "    # 폴드 세트 내에서 원본 테스트 데이터를 예측한 데이터를 평균하여 테스트 데이터로 생성 \n",
    "    test_pred_mean = np.mean(test_pred, axis=1).reshape(-1,1)    \n",
    "    \n",
    "    #train_fold_pred는 최종 메타 모델이 사용하는 학습 데이터, test_pred_mean은 테스트 데이터\n",
    "    return train_fold_pred , test_pred_mean\n"
   ]
  },
  {
   "cell_type": "code",
   "execution_count": 31,
   "metadata": {},
   "outputs": [
    {
     "name": "stdout",
     "output_type": "stream",
     "text": [
      "KNeighborsClassifier  model 시작 \n",
      "\t 폴드 세트:  0  시작 \n",
      "\t 폴드 세트:  1  시작 \n",
      "\t 폴드 세트:  2  시작 \n",
      "\t 폴드 세트:  3  시작 \n",
      "\t 폴드 세트:  4  시작 \n",
      "\t 폴드 세트:  5  시작 \n",
      "\t 폴드 세트:  6  시작 \n",
      "\t 폴드 세트:  7  시작 \n",
      "\t 폴드 세트:  8  시작 \n",
      "\t 폴드 세트:  9  시작 \n",
      "RandomForestClassifier  model 시작 \n",
      "\t 폴드 세트:  0  시작 \n",
      "\t 폴드 세트:  1  시작 \n",
      "\t 폴드 세트:  2  시작 \n",
      "\t 폴드 세트:  3  시작 \n",
      "\t 폴드 세트:  4  시작 \n",
      "\t 폴드 세트:  5  시작 \n",
      "\t 폴드 세트:  6  시작 \n",
      "\t 폴드 세트:  7  시작 \n",
      "\t 폴드 세트:  8  시작 \n",
      "\t 폴드 세트:  9  시작 \n",
      "GradientBoostingClassifier  model 시작 \n",
      "\t 폴드 세트:  0  시작 \n",
      "\t 폴드 세트:  1  시작 \n",
      "\t 폴드 세트:  2  시작 \n",
      "\t 폴드 세트:  3  시작 \n",
      "\t 폴드 세트:  4  시작 \n",
      "\t 폴드 세트:  5  시작 \n",
      "\t 폴드 세트:  6  시작 \n",
      "\t 폴드 세트:  7  시작 \n",
      "\t 폴드 세트:  8  시작 \n",
      "\t 폴드 세트:  9  시작 \n"
     ]
    }
   ],
   "source": [
    "knn_train, knn_test = get_stacking_base_datasets(knn_clf, X_train_arr, y_train_arr, X_test_arr, 10)\n",
    "rf_train, rf_test = get_stacking_base_datasets(rf_clf, X_train_arr, y_train_arr, X_test_arr, 10)\n",
    "gb_train, gb_test = get_stacking_base_datasets(gb_clf, X_train_arr, y_train_arr, X_test_arr,  10)"
   ]
  },
  {
   "cell_type": "code",
   "execution_count": 32,
   "metadata": {},
   "outputs": [
    {
     "name": "stdout",
     "output_type": "stream",
     "text": [
      "원본 학습 피처 데이터 Shape: (5278, 33) 원본 테스트 피처 Shape: (1320, 33)\n",
      "스태킹 학습 피처 데이터 Shape: (5278, 3) 스태킹 테스트 피처 데이터 Shape: (1320, 3)\n"
     ]
    }
   ],
   "source": [
    "Stack_final_X_train = np.concatenate((knn_train, rf_train,gb_train), axis=1)\n",
    "Stack_final_X_test = np.concatenate((knn_test, rf_test,gb_test), axis=1)\n",
    "print('원본 학습 피처 데이터 Shape:',X_train.shape, '원본 테스트 피처 Shape:',X_test.shape)\n",
    "print('스태킹 학습 피처 데이터 Shape:', Stack_final_X_train.shape,\n",
    "      '스태킹 테스트 피처 데이터 Shape:',Stack_final_X_test.shape)\n"
   ]
  },
  {
   "cell_type": "code",
   "execution_count": 33,
   "metadata": {},
   "outputs": [
    {
     "name": "stdout",
     "output_type": "stream",
     "text": [
      "최종 정확도: 0.6288\n"
     ]
    }
   ],
   "source": [
    "lgbm_wrapper = LGBMClassifier(n_estimators=800)\n",
    "lgbm_wrapper.fit(Stack_final_X_train, y_train,verbose=True)\n",
    "lgbm_preds = lgbm_wrapper.predict(Stack_final_X_test)\n",
    "lgbm_accuracy = accuracy_score(y_test, lgbm_preds)\n",
    "print('최종 정확도: {0:.4f}'.format(lgbm_accuracy))"
   ]
  },
  {
   "cell_type": "code",
   "execution_count": null,
   "metadata": {},
   "outputs": [],
   "source": []
  }
 ],
 "metadata": {
  "kernelspec": {
   "display_name": "Python 3",
   "language": "python",
   "name": "python3"
  },
  "language_info": {
   "codemirror_mode": {
    "name": "ipython",
    "version": 3
   },
   "file_extension": ".py",
   "mimetype": "text/x-python",
   "name": "python",
   "nbconvert_exporter": "python",
   "pygments_lexer": "ipython3",
   "version": "3.7.4"
  }
 },
 "nbformat": 4,
 "nbformat_minor": 2
}
